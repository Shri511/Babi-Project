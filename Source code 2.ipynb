{
 "cells": [
  {
   "cell_type": "code",
   "execution_count": 1,
   "id": "0b44d736",
   "metadata": {},
   "outputs": [],
   "source": [
    "import pickle\n",
    "import keras\n",
    "import numpy as np"
   ]
  },
  {
   "cell_type": "code",
   "execution_count": 2,
   "id": "ed70803b",
   "metadata": {},
   "outputs": [],
   "source": [
    "with open(\"test_qa.txt\",\"rb\") as fp:\n",
    "    test_data = pickle.load(fp)"
   ]
  },
  {
   "cell_type": "code",
   "execution_count": 3,
   "id": "7eb613e0",
   "metadata": {},
   "outputs": [
    {
     "data": {
      "text/plain": [
       "1000"
      ]
     },
     "execution_count": 3,
     "metadata": {},
     "output_type": "execute_result"
    }
   ],
   "source": [
    "len(test_data)"
   ]
  },
  {
   "cell_type": "code",
   "execution_count": 4,
   "id": "0cc27ff9",
   "metadata": {},
   "outputs": [],
   "source": [
    "with open(\"train_qa.txt\",\"rb\") as fp:\n",
    "    train_data = pickle.load(fp)"
   ]
  },
  {
   "cell_type": "code",
   "execution_count": 5,
   "id": "8ef904fd",
   "metadata": {},
   "outputs": [
    {
     "data": {
      "text/plain": [
       "10000"
      ]
     },
     "execution_count": 5,
     "metadata": {},
     "output_type": "execute_result"
    }
   ],
   "source": [
    "len(train_data)"
   ]
  },
  {
   "cell_type": "code",
   "execution_count": 6,
   "id": "7986bf10",
   "metadata": {},
   "outputs": [],
   "source": [
    "vocab = set()"
   ]
  },
  {
   "cell_type": "code",
   "execution_count": 7,
   "id": "66ba203c",
   "metadata": {},
   "outputs": [],
   "source": [
    "all_data = train_data + test_data;"
   ]
  },
  {
   "cell_type": "code",
   "execution_count": 8,
   "id": "e7c4b6b9",
   "metadata": {},
   "outputs": [],
   "source": [
    "for story,question,answer in all_data:\n",
    "    vocab=vocab.union(set(story))\n",
    "    vocab=vocab.union(set(question))"
   ]
  },
  {
   "cell_type": "code",
   "execution_count": 9,
   "id": "66739445",
   "metadata": {},
   "outputs": [],
   "source": [
    "vocab.add(\"yes\")\n",
    "vocab.add(\"no\")"
   ]
  },
  {
   "cell_type": "code",
   "execution_count": 10,
   "id": "67d1bc88",
   "metadata": {},
   "outputs": [
    {
     "data": {
      "text/plain": [
       "37"
      ]
     },
     "execution_count": 10,
     "metadata": {},
     "output_type": "execute_result"
    }
   ],
   "source": [
    "len(vocab)"
   ]
  },
  {
   "cell_type": "code",
   "execution_count": 11,
   "id": "ebe8ba30",
   "metadata": {},
   "outputs": [],
   "source": [
    "vocab_len = len(vocab) + 1"
   ]
  },
  {
   "cell_type": "code",
   "execution_count": 12,
   "id": "3ce512e4",
   "metadata": {},
   "outputs": [],
   "source": [
    "max_story_length = max([len(data[0]) for data in all_data])"
   ]
  },
  {
   "cell_type": "code",
   "execution_count": 13,
   "id": "b50710a0",
   "metadata": {},
   "outputs": [],
   "source": [
    "max_ques_length = max([len(data[1]) for data in all_data])"
   ]
  },
  {
   "cell_type": "code",
   "execution_count": 14,
   "id": "f7d42d68",
   "metadata": {},
   "outputs": [],
   "source": [
    "from keras_preprocessing.sequence import pad_sequences\n",
    "from keras_preprocessing.text import Tokenizer"
   ]
  },
  {
   "cell_type": "code",
   "execution_count": 15,
   "id": "05887210",
   "metadata": {},
   "outputs": [],
   "source": [
    "tokenizer = Tokenizer(filters = [])"
   ]
  },
  {
   "cell_type": "code",
   "execution_count": 16,
   "id": "80b78f85",
   "metadata": {},
   "outputs": [],
   "source": [
    "tokenizer.fit_on_texts(vocab)"
   ]
  },
  {
   "cell_type": "code",
   "execution_count": 17,
   "id": "dd614e24",
   "metadata": {},
   "outputs": [
    {
     "data": {
      "text/plain": [
       "{'put': 1,\n",
       " 'left': 2,\n",
       " 'dropped': 3,\n",
       " 'up': 4,\n",
       " 'to': 5,\n",
       " 'the': 6,\n",
       " 'bedroom': 7,\n",
       " 'down': 8,\n",
       " 'there': 9,\n",
       " 'hallway': 10,\n",
       " 'back': 11,\n",
       " 'got': 12,\n",
       " 'journeyed': 13,\n",
       " 'took': 14,\n",
       " 'bathroom': 15,\n",
       " 'yes': 16,\n",
       " 'in': 17,\n",
       " 'mary': 18,\n",
       " 'sandra': 19,\n",
       " 'is': 20,\n",
       " 'kitchen': 21,\n",
       " 'picked': 22,\n",
       " 'milk': 23,\n",
       " 'football': 24,\n",
       " 'travelled': 25,\n",
       " 'john': 26,\n",
       " 'office': 27,\n",
       " 'discarded': 28,\n",
       " 'garden': 29,\n",
       " 'went': 30,\n",
       " 'apple': 31,\n",
       " '?': 32,\n",
       " '.': 33,\n",
       " 'grabbed': 34,\n",
       " 'moved': 35,\n",
       " 'daniel': 36,\n",
       " 'no': 37}"
      ]
     },
     "execution_count": 17,
     "metadata": {},
     "output_type": "execute_result"
    }
   ],
   "source": [
    "tokenizer.word_index"
   ]
  },
  {
   "cell_type": "code",
   "execution_count": 18,
   "id": "f8910e9e",
   "metadata": {},
   "outputs": [],
   "source": [
    "train_story_text = []\n",
    "train_question_text = []\n",
    "train_answer = []"
   ]
  },
  {
   "cell_type": "code",
   "execution_count": 19,
   "id": "62c29d49",
   "metadata": {},
   "outputs": [],
   "source": [
    "for story,question,answer in train_data:\n",
    "    train_story_text.append(story)\n",
    "    train_question_text.append(question)"
   ]
  },
  {
   "cell_type": "code",
   "execution_count": 20,
   "id": "2f0051b1",
   "metadata": {},
   "outputs": [],
   "source": [
    "train_story_seq = tokenizer.texts_to_sequences(train_story_text)"
   ]
  },
  {
   "cell_type": "code",
   "execution_count": 1,
   "id": "2fbfc713",
   "metadata": {},
   "outputs": [],
   "source": [
    "#train_story_seq"
   ]
  },
  {
   "cell_type": "code",
   "execution_count": 22,
   "id": "9f8dc9f7",
   "metadata": {},
   "outputs": [],
   "source": [
    "def vectorize_stories(data, word_index = tokenizer.word_index, max_story_length = max_story_length, max_ques_length = max_ques_length):\n",
    "    X = []\n",
    "    Xq = []\n",
    "    Y = []\n",
    "    for story, question, answer in data:\n",
    "        x=[word_index[word.lower()] for word in story]\n",
    "        xq=[word_index[word.lower()] for word in question]\n",
    "        y=np.zeros(len(word_index) + 1)\n",
    "        y[word_index[answer]] = 1\n",
    "    \n",
    "        X.append(x)\n",
    "        Xq.append(xq)\n",
    "        Y.append(y)\n",
    "    \n",
    "    return (pad_sequences(X,maxlen = max_story_length), \n",
    "            pad_sequences(Xq,maxlen = max_ques_length), \n",
    "            np.array(Y))    "
   ]
  },
  {
   "cell_type": "code",
   "execution_count": 23,
   "id": "c6562342",
   "metadata": {},
   "outputs": [],
   "source": [
    "inputs_train,queries_train,answer_train = vectorize_stories(train_data) "
   ]
  },
  {
   "cell_type": "code",
   "execution_count": 24,
   "id": "bb73fdf6",
   "metadata": {},
   "outputs": [],
   "source": [
    "inputs_test,queries_test,answer_test = vectorize_stories(test_data) "
   ]
  },
  {
   "cell_type": "code",
   "execution_count": 25,
   "id": "76e4d47a",
   "metadata": {},
   "outputs": [
    {
     "data": {
      "text/plain": [
       "array([[ 0,  0,  0, ...,  6,  7, 33],\n",
       "       [ 0,  0,  0, ...,  6, 10, 33],\n",
       "       [ 0,  0,  0, ...,  6, 15, 33],\n",
       "       ...,\n",
       "       [ 0,  0,  0, ...,  6,  7, 33],\n",
       "       [ 0,  0,  0, ..., 23,  9, 33],\n",
       "       [ 0,  0,  0, ..., 31,  9, 33]])"
      ]
     },
     "execution_count": 25,
     "metadata": {},
     "output_type": "execute_result"
    }
   ],
   "source": [
    "inputs_train"
   ]
  },
  {
   "cell_type": "code",
   "execution_count": 26,
   "id": "d5a811be",
   "metadata": {},
   "outputs": [
    {
     "data": {
      "text/plain": [
       "array([[20, 19, 17,  6, 10, 32],\n",
       "       [20, 36, 17,  6, 15, 32],\n",
       "       [20, 36, 17,  6, 27, 32],\n",
       "       ...,\n",
       "       [20, 19, 17,  6, 10, 32],\n",
       "       [20, 18, 17,  6, 21, 32],\n",
       "       [20, 18, 17,  6,  7, 32]])"
      ]
     },
     "execution_count": 26,
     "metadata": {},
     "output_type": "execute_result"
    }
   ],
   "source": [
    "queries_train"
   ]
  },
  {
   "cell_type": "code",
   "execution_count": 27,
   "id": "743ba375",
   "metadata": {},
   "outputs": [
    {
     "data": {
      "text/plain": [
       "array([[0., 0., 0., ..., 0., 0., 1.],\n",
       "       [0., 0., 0., ..., 0., 0., 1.],\n",
       "       [0., 0., 0., ..., 0., 0., 1.],\n",
       "       ...,\n",
       "       [0., 0., 0., ..., 0., 0., 1.],\n",
       "       [0., 0., 0., ..., 0., 0., 1.],\n",
       "       [0., 0., 0., ..., 0., 0., 0.]])"
      ]
     },
     "execution_count": 27,
     "metadata": {},
     "output_type": "execute_result"
    }
   ],
   "source": [
    "answer_train"
   ]
  },
  {
   "cell_type": "code",
   "execution_count": 28,
   "id": "fb690d78",
   "metadata": {},
   "outputs": [],
   "source": [
    "from keras.models import Sequential, Model\n",
    "from keras.layers import Embedding\n",
    "from keras.layers import Input, Activation, Dense, Permute, Dropout, add, dot, concatenate,LSTM"
   ]
  },
  {
   "cell_type": "code",
   "execution_count": 29,
   "id": "889c99d0",
   "metadata": {},
   "outputs": [],
   "source": [
    "input_sequence = Input((max_story_length))\n",
    "question = Input((max_ques_length))"
   ]
  },
  {
   "cell_type": "code",
   "execution_count": 30,
   "id": "074c52b7",
   "metadata": {},
   "outputs": [],
   "source": [
    "input_encoder_m = Sequential()\n",
    "input_encoder_m.add(Embedding(input_dim = vocab_len, output_dim = 64))\n",
    "input_encoder_m.add(Dropout(0.3))"
   ]
  },
  {
   "cell_type": "code",
   "execution_count": 31,
   "id": "88cb3b4e",
   "metadata": {},
   "outputs": [],
   "source": [
    "input_encoder_c = Sequential()\n",
    "input_encoder_c.add(Embedding(input_dim = vocab_len, output_dim = max_ques_length))\n",
    "input_encoder_c.add(Dropout(0.3))"
   ]
  },
  {
   "cell_type": "code",
   "execution_count": 32,
   "id": "f0dcc9f2",
   "metadata": {},
   "outputs": [],
   "source": [
    "question_encoder = Sequential()\n",
    "question_encoder.add(Embedding(input_dim = vocab_len, output_dim = 64, input_length = max_ques_length))\n",
    "question_encoder.add(Dropout(0.3))"
   ]
  },
  {
   "cell_type": "code",
   "execution_count": 33,
   "id": "e21746eb",
   "metadata": {},
   "outputs": [],
   "source": [
    "input_encoded_m = input_encoder_m(input_sequence)\n",
    "\n",
    "input_encoded_c = input_encoder_c(input_sequence)\n",
    "question_encoded = question_encoder(question)"
   ]
  },
  {
   "cell_type": "code",
   "execution_count": 34,
   "id": "ddb35ad8",
   "metadata": {},
   "outputs": [],
   "source": [
    "match = dot([input_encoded_m,question_encoded], axes = (2,2))\n",
    "match = Activation('softmax')(match)"
   ]
  },
  {
   "cell_type": "code",
   "execution_count": 35,
   "id": "485882c0",
   "metadata": {},
   "outputs": [],
   "source": [
    "response = add([match,input_encoded_c])\n",
    "response = Permute((2,1))(response)"
   ]
  },
  {
   "cell_type": "code",
   "execution_count": 36,
   "id": "4889cb46",
   "metadata": {},
   "outputs": [],
   "source": [
    "answer = concatenate([response,question_encoded ])"
   ]
  },
  {
   "cell_type": "code",
   "execution_count": 37,
   "id": "99f0ce58",
   "metadata": {},
   "outputs": [],
   "source": [
    "answer = LSTM(32)(answer)"
   ]
  },
  {
   "cell_type": "code",
   "execution_count": 38,
   "id": "c76438eb",
   "metadata": {},
   "outputs": [],
   "source": [
    "answer = Dropout(0.5)(answer)\n",
    "answer = Dense(vocab_len)(answer)"
   ]
  },
  {
   "cell_type": "code",
   "execution_count": 39,
   "id": "f7f82138",
   "metadata": {},
   "outputs": [],
   "source": [
    "answer = Activation('softmax')(answer)"
   ]
  },
  {
   "cell_type": "code",
   "execution_count": 40,
   "id": "7b1654b6",
   "metadata": {},
   "outputs": [],
   "source": [
    "model = Model([input_sequence, question], answer)\n",
    "model.compile(optimizer = 'rmsprop', loss = 'categorical_crossentropy', metrics = ['accuracy'])"
   ]
  },
  {
   "cell_type": "code",
   "execution_count": 41,
   "id": "5956bd2a",
   "metadata": {},
   "outputs": [
    {
     "name": "stdout",
     "output_type": "stream",
     "text": [
      "Model: \"model\"\n",
      "__________________________________________________________________________________________________\n",
      " Layer (type)                   Output Shape         Param #     Connected to                     \n",
      "==================================================================================================\n",
      " input_1 (InputLayer)           [(None, 156)]        0           []                               \n",
      "                                                                                                  \n",
      " input_2 (InputLayer)           [(None, 6)]          0           []                               \n",
      "                                                                                                  \n",
      " sequential (Sequential)        (None, None, 64)     2432        ['input_1[0][0]']                \n",
      "                                                                                                  \n",
      " sequential_2 (Sequential)      (None, 6, 64)        2432        ['input_2[0][0]']                \n",
      "                                                                                                  \n",
      " dot (Dot)                      (None, 156, 6)       0           ['sequential[0][0]',             \n",
      "                                                                  'sequential_2[0][0]']           \n",
      "                                                                                                  \n",
      " activation (Activation)        (None, 156, 6)       0           ['dot[0][0]']                    \n",
      "                                                                                                  \n",
      " sequential_1 (Sequential)      (None, None, 6)      228         ['input_1[0][0]']                \n",
      "                                                                                                  \n",
      " add (Add)                      (None, 156, 6)       0           ['activation[0][0]',             \n",
      "                                                                  'sequential_1[0][0]']           \n",
      "                                                                                                  \n",
      " permute (Permute)              (None, 6, 156)       0           ['add[0][0]']                    \n",
      "                                                                                                  \n",
      " concatenate (Concatenate)      (None, 6, 220)       0           ['permute[0][0]',                \n",
      "                                                                  'sequential_2[0][0]']           \n",
      "                                                                                                  \n",
      " lstm (LSTM)                    (None, 32)           32384       ['concatenate[0][0]']            \n",
      "                                                                                                  \n",
      " dropout_3 (Dropout)            (None, 32)           0           ['lstm[0][0]']                   \n",
      "                                                                                                  \n",
      " dense (Dense)                  (None, 38)           1254        ['dropout_3[0][0]']              \n",
      "                                                                                                  \n",
      " activation_1 (Activation)      (None, 38)           0           ['dense[0][0]']                  \n",
      "                                                                                                  \n",
      "==================================================================================================\n",
      "Total params: 38,730\n",
      "Trainable params: 38,730\n",
      "Non-trainable params: 0\n",
      "__________________________________________________________________________________________________\n"
     ]
    }
   ],
   "source": [
    "model.summary()"
   ]
  },
  {
   "cell_type": "code",
   "execution_count": 42,
   "id": "334a1bea",
   "metadata": {},
   "outputs": [
    {
     "name": "stdout",
     "output_type": "stream",
     "text": [
      "Epoch 1/20\n",
      "313/313 [==============================] - 11s 26ms/step - loss: 0.8914 - accuracy: 0.4899 - val_loss: 0.6946 - val_accuracy: 0.4970\n",
      "Epoch 2/20\n",
      "313/313 [==============================] - 8s 24ms/step - loss: 0.6984 - accuracy: 0.5007 - val_loss: 0.6933 - val_accuracy: 0.5030\n",
      "Epoch 3/20\n",
      "313/313 [==============================] - 7s 21ms/step - loss: 0.6957 - accuracy: 0.4957 - val_loss: 0.6960 - val_accuracy: 0.4970\n",
      "Epoch 4/20\n",
      "313/313 [==============================] - 7s 23ms/step - loss: 0.6941 - accuracy: 0.5023 - val_loss: 0.6991 - val_accuracy: 0.5030\n",
      "Epoch 5/20\n",
      "313/313 [==============================] - 7s 24ms/step - loss: 0.6954 - accuracy: 0.4962 - val_loss: 0.6947 - val_accuracy: 0.5030\n",
      "Epoch 6/20\n",
      "313/313 [==============================] - 7s 24ms/step - loss: 0.6947 - accuracy: 0.4978 - val_loss: 0.6952 - val_accuracy: 0.4970\n",
      "Epoch 7/20\n",
      "313/313 [==============================] - 8s 24ms/step - loss: 0.6946 - accuracy: 0.5018 - val_loss: 0.6934 - val_accuracy: 0.4680\n",
      "Epoch 8/20\n",
      "313/313 [==============================] - 7s 22ms/step - loss: 0.6950 - accuracy: 0.4826 - val_loss: 0.6933 - val_accuracy: 0.5030\n",
      "Epoch 9/20\n",
      "313/313 [==============================] - 8s 24ms/step - loss: 0.6945 - accuracy: 0.5008 - val_loss: 0.6935 - val_accuracy: 0.4860\n",
      "Epoch 10/20\n",
      "313/313 [==============================] - 8s 24ms/step - loss: 0.6941 - accuracy: 0.5064 - val_loss: 0.6955 - val_accuracy: 0.4970\n",
      "Epoch 11/20\n",
      "313/313 [==============================] - 8s 25ms/step - loss: 0.6926 - accuracy: 0.5121 - val_loss: 0.6952 - val_accuracy: 0.4990\n",
      "Epoch 12/20\n",
      "313/313 [==============================] - 8s 24ms/step - loss: 0.6852 - accuracy: 0.5463 - val_loss: 0.6732 - val_accuracy: 0.5760\n",
      "Epoch 13/20\n",
      "313/313 [==============================] - 8s 24ms/step - loss: 0.6565 - accuracy: 0.6185 - val_loss: 0.6436 - val_accuracy: 0.6480\n",
      "Epoch 14/20\n",
      "313/313 [==============================] - 7s 24ms/step - loss: 0.6344 - accuracy: 0.6524 - val_loss: 0.6215 - val_accuracy: 0.6580\n",
      "Epoch 15/20\n",
      "313/313 [==============================] - 8s 24ms/step - loss: 0.6309 - accuracy: 0.6559 - val_loss: 0.6198 - val_accuracy: 0.6600\n",
      "Epoch 16/20\n",
      "313/313 [==============================] - 8s 24ms/step - loss: 0.6202 - accuracy: 0.6593 - val_loss: 0.6127 - val_accuracy: 0.6740\n",
      "Epoch 17/20\n",
      "313/313 [==============================] - 8s 24ms/step - loss: 0.6182 - accuracy: 0.6587 - val_loss: 0.6137 - val_accuracy: 0.6680\n",
      "Epoch 18/20\n",
      "313/313 [==============================] - 7s 23ms/step - loss: 0.6116 - accuracy: 0.6655 - val_loss: 0.6016 - val_accuracy: 0.6850\n",
      "Epoch 19/20\n",
      "313/313 [==============================] - 8s 24ms/step - loss: 0.6020 - accuracy: 0.6808 - val_loss: 0.5931 - val_accuracy: 0.6900\n",
      "Epoch 20/20\n",
      "313/313 [==============================] - 7s 24ms/step - loss: 0.5955 - accuracy: 0.6826 - val_loss: 0.5804 - val_accuracy: 0.6880\n"
     ]
    }
   ],
   "source": [
    "history = model.fit([inputs_train, queries_train], answer_train,\n",
    "                   batch_size = 32, epochs = 20,\n",
    "                   validation_data = ([inputs_test, queries_test], answer_test)\n",
    "                   )"
   ]
  },
  {
   "cell_type": "code",
   "execution_count": 43,
   "id": "ee0fd71f",
   "metadata": {},
   "outputs": [
    {
     "name": "stdout",
     "output_type": "stream",
     "text": [
      "dict_keys(['loss', 'accuracy', 'val_loss', 'val_accuracy'])\n"
     ]
    },
    {
     "data": {
      "text/plain": [
       "Text(0.5, 0, 'epochs')"
      ]
     },
     "execution_count": 43,
     "metadata": {},
     "output_type": "execute_result"
    },
    {
     "data": {
      "image/png": "[encoded data removed]",
      "text/plain": [
       "<Figure size 432x288 with 1 Axes>"
      ]
     },
     "metadata": {
      "needs_background": "light"
     },
     "output_type": "display_data"
    }
   ],
   "source": [
    "import matplotlib.pyplot as plt\n",
    "print(history.history.keys())\n",
    "plt.plot(history.history['accuracy'])\n",
    "\n",
    "plt.plot(history.history['val_accuracy'])\n",
    "plt.title(\"Model Accuracy\")\n",
    "plt.ylabel(\"Accuracy\")\n",
    "plt.xlabel(\"epochs\")\n"
   ]
  },
  {
   "cell_type": "code",
   "execution_count": 44,
   "id": "583b9f6b",
   "metadata": {},
   "outputs": [
    {
     "name": "stderr",
     "output_type": "stream",
     "text": [
      "WARNING:absl:Found untraced functions such as lstm_cell_layer_call_fn, lstm_cell_layer_call_and_return_conditional_losses while saving (showing 2 of 2). These functions will not be directly callable after loading.\n"
     ]
    },
    {
     "name": "stdout",
     "output_type": "stream",
     "text": [
      "INFO:tensorflow:Assets written to: chatbot_model\\assets\n"
     ]
    },
    {
     "name": "stderr",
     "output_type": "stream",
     "text": [
      "INFO:tensorflow:Assets written to: chatbot_model\\assets\n"
     ]
    }
   ],
   "source": [
    "model.save('chatbot_model')"
   ]
  },
  {
   "cell_type": "code",
   "execution_count": 45,
   "id": "c0ccd4ab",
   "metadata": {},
   "outputs": [
    {
     "name": "stdout",
     "output_type": "stream",
     "text": [
      "32/32 [==============================] - 1s 5ms/step\n"
     ]
    }
   ],
   "source": [
    "pred_results = model.predict(([inputs_test, queries_test]))"
   ]
  },
  {
   "cell_type": "code",
   "execution_count": 46,
   "id": "d95e57d2",
   "metadata": {},
   "outputs": [
    {
     "data": {
      "text/plain": [
       "['Mary',\n",
       " 'got',\n",
       " 'the',\n",
       " 'milk',\n",
       " 'there',\n",
       " '.',\n",
       " 'John',\n",
       " 'moved',\n",
       " 'to',\n",
       " 'the',\n",
       " 'bedroom',\n",
       " '.']"
      ]
     },
     "execution_count": 46,
     "metadata": {},
     "output_type": "execute_result"
    }
   ],
   "source": [
    "test_data[0][0]"
   ]
  },
  {
   "cell_type": "code",
   "execution_count": 47,
   "id": "1d076b0f",
   "metadata": {},
   "outputs": [],
   "source": [
    "story = ' '.join(word for word in test_data[0][0])"
   ]
  },
  {
   "cell_type": "code",
   "execution_count": 48,
   "id": "0cfcf9dd",
   "metadata": {},
   "outputs": [
    {
     "data": {
      "text/plain": [
       "'Mary got the milk there . John moved to the bedroom .'"
      ]
     },
     "execution_count": 48,
     "metadata": {},
     "output_type": "execute_result"
    }
   ],
   "source": [
    "story"
   ]
  },
  {
   "cell_type": "code",
   "execution_count": 49,
   "id": "0b14df35",
   "metadata": {},
   "outputs": [],
   "source": [
    "query = ' '.join(word for word in test_data[0][1])"
   ]
  },
  {
   "cell_type": "code",
   "execution_count": 50,
   "id": "038c46ef",
   "metadata": {},
   "outputs": [
    {
     "data": {
      "text/plain": [
       "'Is John in the kitchen ?'"
      ]
     },
     "execution_count": 50,
     "metadata": {},
     "output_type": "execute_result"
    }
   ],
   "source": [
    "query"
   ]
  },
  {
   "cell_type": "code",
   "execution_count": 51,
   "id": "682b62f3",
   "metadata": {},
   "outputs": [
    {
     "data": {
      "text/plain": [
       "'no'"
      ]
     },
     "execution_count": 51,
     "metadata": {},
     "output_type": "execute_result"
    }
   ],
   "source": [
    "test_data[0][2]"
   ]
  },
  {
   "cell_type": "code",
   "execution_count": 52,
   "id": "f31b1504",
   "metadata": {},
   "outputs": [
    {
     "name": "stdout",
     "output_type": "stream",
     "text": [
      "Predicted Answer is yes\n",
      "Probability of certainity 0.66227543\n"
     ]
    }
   ],
   "source": [
    "val_max = np.argmax(pred_results[0])\n",
    "\n",
    "for key, val in tokenizer.word_index.items():\n",
    "    if val == val_max:\n",
    "        k=key\n",
    "        \n",
    "print(\"Predicted Answer is\",k)\n",
    "print(\"Probability of certainity\", pred_results[0][val_max])"
   ]
  },
  {
   "cell_type": "code",
   "execution_count": 53,
   "id": "4fc7a9c0",
   "metadata": {},
   "outputs": [
    {
     "data": {
      "text/plain": [
       "{'.',\n",
       " '?',\n",
       " 'Daniel',\n",
       " 'Is',\n",
       " 'John',\n",
       " 'Mary',\n",
       " 'Sandra',\n",
       " 'apple',\n",
       " 'back',\n",
       " 'bathroom',\n",
       " 'bedroom',\n",
       " 'discarded',\n",
       " 'down',\n",
       " 'dropped',\n",
       " 'football',\n",
       " 'garden',\n",
       " 'got',\n",
       " 'grabbed',\n",
       " 'hallway',\n",
       " 'in',\n",
       " 'journeyed',\n",
       " 'kitchen',\n",
       " 'left',\n",
       " 'milk',\n",
       " 'moved',\n",
       " 'no',\n",
       " 'office',\n",
       " 'picked',\n",
       " 'put',\n",
       " 'the',\n",
       " 'there',\n",
       " 'to',\n",
       " 'took',\n",
       " 'travelled',\n",
       " 'up',\n",
       " 'went',\n",
       " 'yes'}"
      ]
     },
     "execution_count": 53,
     "metadata": {},
     "output_type": "execute_result"
    }
   ],
   "source": [
    "vocab"
   ]
  },
  {
   "cell_type": "code",
   "execution_count": 54,
   "id": "b69366a5",
   "metadata": {},
   "outputs": [
    {
     "data": {
      "text/plain": [
       "['Mary',\n",
       " 'dropped',\n",
       " 'the',\n",
       " 'football',\n",
       " '.',\n",
       " 'Sandra',\n",
       " 'discarded',\n",
       " 'apple',\n",
       " 'in',\n",
       " 'kitchen',\n",
       " '.',\n",
       " 'Daniel',\n",
       " 'went',\n",
       " 'to',\n",
       " 'office',\n",
       " '.']"
      ]
     },
     "execution_count": 54,
     "metadata": {},
     "output_type": "execute_result"
    }
   ],
   "source": [
    "story = \"Mary dropped the football . Sandra discarded apple in kitchen . Daniel went to office .\"\n",
    "story.split()"
   ]
  },
  {
   "cell_type": "code",
   "execution_count": 55,
   "id": "68441da8",
   "metadata": {},
   "outputs": [
    {
     "data": {
      "text/plain": [
       "['Is', 'Daniel', 'in', 'the', 'office', '?']"
      ]
     },
     "execution_count": 55,
     "metadata": {},
     "output_type": "execute_result"
    }
   ],
   "source": [
    "my_question = \"Is Daniel in the office ? \"\n",
    "my_question.split()"
   ]
  },
  {
   "cell_type": "code",
   "execution_count": 56,
   "id": "c762cdf0",
   "metadata": {},
   "outputs": [],
   "source": [
    "mydata = [(story.split(), my_question.split(), 'yes')]"
   ]
  },
  {
   "cell_type": "code",
   "execution_count": 57,
   "id": "3b60fc85",
   "metadata": {},
   "outputs": [],
   "source": [
    "my_story, my_ques, my_ans = vectorize_stories(mydata)"
   ]
  },
  {
   "cell_type": "code",
   "execution_count": 58,
   "id": "78d273a2",
   "metadata": {},
   "outputs": [
    {
     "name": "stdout",
     "output_type": "stream",
     "text": [
      "1/1 [==============================] - 0s 21ms/step\n"
     ]
    }
   ],
   "source": [
    "pred_results = model.predict(([my_story, my_ques]))"
   ]
  },
  {
   "cell_type": "code",
   "execution_count": 59,
   "id": "703d1817",
   "metadata": {},
   "outputs": [
    {
     "name": "stdout",
     "output_type": "stream",
     "text": [
      "Predicted Answer is yes\n",
      "Probability of certainity 0.66717684\n"
     ]
    }
   ],
   "source": [
    "val_max = np.argmax(pred_results[0])\n",
    "\n",
    "for key, val in tokenizer.word_index.items():\n",
    "    if val == val_max:\n",
    "        k=key\n",
    "        \n",
    "print(\"Predicted Answer is\",k)\n",
    "print(\"Probability of certainity\", pred_results[0][val_max])"
   ]
  },
  {
   "cell_type": "code",
   "execution_count": null,
   "id": "abf53146",
   "metadata": {},
   "outputs": [],
   "source": []
  }
 ],
 "metadata": {
  "kernelspec": {
   "display_name": "Python 3 (ipykernel)",
   "language": "python",
   "name": "python3"
  },
  "language_info": {
   "codemirror_mode": {
    "name": "ipython",
    "version": 3
   },
   "file_extension": ".py",
   "mimetype": "text/x-python",
   "name": "python",
   "nbconvert_exporter": "python",
   "pygments_lexer": "ipython3",
   "version": "3.9.12"
  }
 },
 "nbformat": 4,
 "nbformat_minor": 5
}
